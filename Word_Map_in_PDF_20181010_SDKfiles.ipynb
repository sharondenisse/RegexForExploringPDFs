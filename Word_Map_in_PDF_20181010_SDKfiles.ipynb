{
 "cells": [
  {
   "cell_type": "code",
   "execution_count": 2,
   "metadata": {},
   "outputs": [],
   "source": [
    "import PyPDF2, os, re, sys, io\n",
    "from io import StringIO"
   ]
  },
  {
   "cell_type": "markdown",
   "metadata": {},
   "source": [
    "Let's change the directory to the location where all the pdf files are located.\n",
    "Ideally, it is the location where this notebook is also sitting.  The work directory\n",
    "is the location where the text files where be created."
   ]
  },
  {
   "cell_type": "code",
   "execution_count": 3,
   "metadata": {
    "scrolled": false
   },
   "outputs": [
    {
     "name": "stdout",
     "output_type": "stream",
     "text": [
      "C:\\Users\\Skenny02\\Desktop\\MapsForMatt\n"
     ]
    }
   ],
   "source": [
    "%cd C:\\Users\\Skenny02\\Desktop\\MapsForMatt\n",
    "workDir = (r'C:\\Users\\Skenny02\\Desktop')"
   ]
  },
  {
   "cell_type": "code",
   "execution_count": 4,
   "metadata": {
    "scrolled": false
   },
   "outputs": [],
   "source": [
    "pdfFiles_SDK = []\n",
    "pdfName_SDK = []\n",
    "directorySDK = [r'C:\\Users\\Skenny02\\Desktop\\MapsForMatt']\n",
    "\n",
    "# If you would like to look inside many directories, you could add them here.\n",
    "# This is only permissible if there is a small amount of pdfs in each directory\n",
    "# CAUTION: THE CODE BELOW IS RECURSIVE\n",
    "\n"
   ]
  },
  {
   "cell_type": "code",
   "execution_count": 8,
   "metadata": {},
   "outputs": [],
   "source": [
    "i = 0\n",
    "while i < ry:\n",
    "    for root, dirs, files in os.walk(directorySDK[i]):\n",
    "        for name in files:\n",
    "            if name.endswith('.pdf'):\n",
    "                pdfFiles_SDK.append(os.path.join(root, name))\n",
    "                pdfName_SDK.append(os.path.join(name))\n",
    "    i = i + 1"
   ]
  },
  {
   "cell_type": "code",
   "execution_count": 12,
   "metadata": {
    "scrolled": true
   },
   "outputs": [
    {
     "name": "stdout",
     "output_type": "stream",
     "text": [
      "Data Science from Scratch- First Principles with Python.pdf\n",
      "Data Science Playbook.pdf\n",
      "Detail_JulyNoc2018.pdf\n",
      "EIAW_CourseSyllabus.pdf\n",
      "FCS_Summer_Reading-2018-Grade4.pdf\n",
      "GIS_Training_Fall2018.pdf\n",
      "Jake_VanderPlas_Python_Data_Science_Handbook.__Essential_Tools_for_Working_with_Data.pdf\n",
      "KennyTranscriptsBSMS.pdf\n",
      "KennyTranscript_CU.pdf\n",
      "KennyTranscript_UFL.pdf\n",
      "KennyTranscript_UPR.pdf\n",
      "python.pdf\n",
      "PythonCoP_System of Registries _ US EPA.pdf\n",
      "SKenny_CV _Summer2018.pdf\n"
     ]
    }
   ],
   "source": [
    "for files in pdfName_SDK:\n",
    "    print(files)"
   ]
  },
  {
   "cell_type": "code",
   "execution_count": 13,
   "metadata": {},
   "outputs": [
    {
     "name": "stdout",
     "output_type": "stream",
     "text": [
      "14\n"
     ]
    }
   ],
   "source": [
    "print(len(pdfFiles_SDK))\n",
    "#print(len(pdfName_SDK))"
   ]
  },
  {
   "cell_type": "code",
   "execution_count": 24,
   "metadata": {},
   "outputs": [],
   "source": [
    "tex = []\n",
    "encrypted = []\n",
    "textsOneP = []"
   ]
  },
  {
   "cell_type": "code",
   "execution_count": 25,
   "metadata": {},
   "outputs": [],
   "source": [
    "import shutil"
   ]
  },
  {
   "cell_type": "code",
   "execution_count": 26,
   "metadata": {},
   "outputs": [
    {
     "data": {
      "text/plain": [
       "'C:\\\\Users\\\\Skenny02\\\\Desktop\\\\MapsForMatt'"
      ]
     },
     "execution_count": 26,
     "metadata": {},
     "output_type": "execute_result"
    }
   ],
   "source": [
    "%pwd"
   ]
  },
  {
   "cell_type": "code",
   "execution_count": 27,
   "metadata": {},
   "outputs": [
    {
     "name": "stderr",
     "output_type": "stream",
     "text": [
      "A subdirectory or file C:\\Users\\Skenny02\\Desktop\\xxxpdfs already exists.\n"
     ]
    }
   ],
   "source": [
    "# Create a directory where to place the encrpyted files\n",
    "!mkdir C:\\Users\\Skenny02\\Desktop\\xxxpdfs"
   ]
  },
  {
   "cell_type": "code",
   "execution_count": 28,
   "metadata": {},
   "outputs": [
    {
     "name": "stdout",
     "output_type": "stream",
     "text": [
      " Volume in drive C is OSDisk\n",
      " Volume Serial Number is 64E7-1BDF\n",
      "\n",
      " Directory of C:\\Users\\Skenny02\\Desktop\\xxxpdfs\n",
      "\n",
      "10/15/2018  12:34 AM    <DIR>          .\n",
      "10/15/2018  12:34 AM    <DIR>          ..\n",
      "10/15/2018  01:11 AM           325,274 KennyTranscript_CU.pdf\n",
      "               1 File(s)        325,274 bytes\n",
      "               2 Dir(s)  183,109,853,184 bytes free\n"
     ]
    }
   ],
   "source": [
    "# Confirm that the folder was created\n",
    "!dir C:\\Users\\Skenny02\\Desktop\\xxxpdfs"
   ]
  },
  {
   "cell_type": "code",
   "execution_count": 29,
   "metadata": {},
   "outputs": [],
   "source": [
    "xxxpdfs = r'C:\\Users\\Skenny02\\Desktop\\xxxpdfs'"
   ]
  },
  {
   "cell_type": "code",
   "execution_count": 30,
   "metadata": {
    "scrolled": true
   },
   "outputs": [
    {
     "name": "stdout",
     "output_type": "stream",
     "text": [
      "C:\\Users\\Skenny02\\Desktop\\MapsForMatt\\Data Science from Scratch- First Principles with Python.pdf\n",
      "C:\\Users\\Skenny02\\Desktop\\Data Science from Scratch- First Principles with Python.pdf0.txt\n",
      "C:\\Users\\Skenny02\\Desktop\\MapsForMatt\\Data Science Playbook.pdf\n"
     ]
    },
    {
     "name": "stderr",
     "output_type": "stream",
     "text": [
      "PdfReadWarning: Xref table not zero-indexed. ID numbers for objects will be corrected. [pdf.py:1736]\n"
     ]
    },
    {
     "name": "stdout",
     "output_type": "stream",
     "text": [
      "C:\\Users\\Skenny02\\Desktop\\Data Science Playbook.pdf1.txt\n",
      "C:\\Users\\Skenny02\\Desktop\\MapsForMatt\\Detail_JulyNoc2018.pdf\n",
      "C:\\Users\\Skenny02\\Desktop\\Detail_JulyNoc2018.pdf2.txt\n",
      "C:\\Users\\Skenny02\\Desktop\\MapsForMatt\\EIAW_CourseSyllabus.pdf\n",
      "C:\\Users\\Skenny02\\Desktop\\EIAW_CourseSyllabus.pdf3.txt\n",
      "C:\\Users\\Skenny02\\Desktop\\MapsForMatt\\FCS_Summer_Reading-2018-Grade4.pdf\n",
      "C:\\Users\\Skenny02\\Desktop\\FCS_Summer_Reading-2018-Grade4.pdf4.txt\n",
      "C:\\Users\\Skenny02\\Desktop\\MapsForMatt\\GIS_Training_Fall2018.pdf\n",
      "C:\\Users\\Skenny02\\Desktop\\GIS_Training_Fall2018.pdf5.txt\n",
      "C:\\Users\\Skenny02\\Desktop\\MapsForMatt\\Jake_VanderPlas_Python_Data_Science_Handbook.__Essential_Tools_for_Working_with_Data.pdf\n",
      "C:\\Users\\Skenny02\\Desktop\\Jake_VanderPlas_Python_Data_Science_Handbook.__Essential_Tools_for_Working_with_Data.pdf6.txt\n",
      "C:\\Users\\Skenny02\\Desktop\\MapsForMatt\\KennyTranscriptsBSMS.pdf\n",
      "C:\\Users\\Skenny02\\Desktop\\KennyTranscriptsBSMS.pdf7.txt\n",
      "C:\\Users\\Skenny02\\Desktop\\MapsForMatt\\KennyTranscript_UFL.pdf\n",
      "C:\\Users\\Skenny02\\Desktop\\KennyTranscript_UFL.pdf8.txt\n",
      "C:\\Users\\Skenny02\\Desktop\\MapsForMatt\\KennyTranscript_UPR.pdf\n",
      "C:\\Users\\Skenny02\\Desktop\\KennyTranscript_UPR.pdf9.txt\n",
      "C:\\Users\\Skenny02\\Desktop\\MapsForMatt\\python.pdf\n",
      "C:\\Users\\Skenny02\\Desktop\\python.pdf10.txt\n",
      "C:\\Users\\Skenny02\\Desktop\\MapsForMatt\\PythonCoP_System of Registries _ US EPA.pdf\n",
      "C:\\Users\\Skenny02\\Desktop\\PythonCoP_System of Registries _ US EPA.pdf11.txt\n",
      "C:\\Users\\Skenny02\\Desktop\\MapsForMatt\\SKenny_CV _Summer2018.pdf\n",
      "C:\\Users\\Skenny02\\Desktop\\SKenny_CV _Summer2018.pdf12.txt\n"
     ]
    }
   ],
   "source": [
    "i = 0\n",
    "while i < len(pdfFiles_SDK):\n",
    "    \n",
    "    what = pdfFiles_SDK[i]\n",
    "    when = pdfName_SDK[i]\n",
    "    print(what)\n",
    "    pdfFileObj =  open (what, 'rb')\n",
    "    pdfReader = PyPDF2.PdfFileReader(pdfFileObj)\n",
    "    \n",
    "    if pdfReader.isEncrypted:\n",
    "        pdfFileObj.close()\n",
    "        print(\"Encrypted\")\n",
    "        encrypted.append(what)\n",
    "        shutil.copy(what,xxxpdfs)\n",
    "        print(what)\n",
    "        pdfFiles_SDK.remove(what)\n",
    "        pdfName_SDK.remove(when)\n",
    "        \n",
    "    else:\n",
    "        pageThing = pdfReader.getPage(0)\n",
    "        pageWord = pageThing.extractText()\n",
    "        #cc = workDir  + '\\\\' + ff + '.txt'\n",
    "        cc = workDir  + '\\\\' + when + str(i) + '.txt'\n",
    "        print(cc)\n",
    "        wfile = io.open(cc, \"w\", encoding=\"utf-8\") \n",
    "        wfile.write(pageWord)\n",
    "        wfile.close()\n",
    "        textsOneP.append(cc)\n",
    "    i = i + 1"
   ]
  },
  {
   "cell_type": "code",
   "execution_count": 31,
   "metadata": {
    "scrolled": true
   },
   "outputs": [
    {
     "name": "stdout",
     "output_type": "stream",
     "text": [
      "13 13\n"
     ]
    },
    {
     "data": {
      "text/plain": [
       "['C:\\\\Users\\\\Skenny02\\\\Desktop\\\\Data Science from Scratch- First Principles with Python.pdf0.txt',\n",
       " 'C:\\\\Users\\\\Skenny02\\\\Desktop\\\\Data Science Playbook.pdf1.txt',\n",
       " 'C:\\\\Users\\\\Skenny02\\\\Desktop\\\\Detail_JulyNoc2018.pdf2.txt',\n",
       " 'C:\\\\Users\\\\Skenny02\\\\Desktop\\\\EIAW_CourseSyllabus.pdf3.txt',\n",
       " 'C:\\\\Users\\\\Skenny02\\\\Desktop\\\\FCS_Summer_Reading-2018-Grade4.pdf4.txt',\n",
       " 'C:\\\\Users\\\\Skenny02\\\\Desktop\\\\GIS_Training_Fall2018.pdf5.txt',\n",
       " 'C:\\\\Users\\\\Skenny02\\\\Desktop\\\\Jake_VanderPlas_Python_Data_Science_Handbook.__Essential_Tools_for_Working_with_Data.pdf6.txt',\n",
       " 'C:\\\\Users\\\\Skenny02\\\\Desktop\\\\KennyTranscriptsBSMS.pdf7.txt',\n",
       " 'C:\\\\Users\\\\Skenny02\\\\Desktop\\\\KennyTranscript_UFL.pdf8.txt',\n",
       " 'C:\\\\Users\\\\Skenny02\\\\Desktop\\\\KennyTranscript_UPR.pdf9.txt',\n",
       " 'C:\\\\Users\\\\Skenny02\\\\Desktop\\\\python.pdf10.txt',\n",
       " 'C:\\\\Users\\\\Skenny02\\\\Desktop\\\\PythonCoP_System of Registries _ US EPA.pdf11.txt',\n",
       " 'C:\\\\Users\\\\Skenny02\\\\Desktop\\\\SKenny_CV _Summer2018.pdf12.txt']"
      ]
     },
     "execution_count": 31,
     "metadata": {},
     "output_type": "execute_result"
    }
   ],
   "source": [
    "print(len(pdfFiles_SDK), len(textsOneP))\n",
    "textsOneP"
   ]
  },
  {
   "cell_type": "code",
   "execution_count": 37,
   "metadata": {
    "scrolled": false
   },
   "outputs": [
    {
     "name": "stdout",
     "output_type": "stream",
     "text": [
      "\n",
      "&\n",
      "Region 3 Initiatives\n",
      "Sharon D. Kenny\n",
      "GIS Training:\n",
      "\n",
      "The pdf file called    C:\\Users\\Skenny02\\Desktop\\MapsForMatt\\GIS_Training_Fall2018.pdf     contains the phrase     Sharon \n",
      "Sharon D. Kenny\n",
      " \n",
      " \n",
      " \n",
     
      " \n",
      "\n",
      "The pdf file called    C:\\Users\\Skenny02\\Desktop\\MapsForMatt\\SKenny_CV _Summer2018.pdf     contains the phrase     Sharon \n"
     ]
    }
   ],
   "source": [
    "# Searching for string \"Map xxxx\", where x are numbers from 0 to 9\n",
    "z = 0\n",
    "mapsName = []\n",
    "mapsNumber = []\n",
    "mapsLocation = []\n",
    "while z < (len(pdfFiles_SDK)):\n",
    "    regFile = textsOneP[z]\n",
    "    regPDF = pdfFiles_SDK[z]  \n",
    "    whatFile = io.open(regFile, 'r', encoding=\"utf-8\")\n",
    "    openFile = whatFile.read()\n",
    "    #lineSpace = re.findall('[M]{1}[a-z]{2}\\s[0-9]{4}', openFile)\n",
    "    lineSpace = re.findall('S{1}[a-z]{4}[n]\\s', openFile)\n",
    "    mm = int(len(lineSpace))\n",
    "    if mm != 0:\n",
    "        print(openFile)\n",
    "        print(\"The pdf file called   \", regPDF, \"    contains the phrase    \", lineSpace[0]  )\n",
    "        mapsLocation.append(pdfFiles_SDK[z])\n",
    "        #apsLocation.append(regPDF)\n",
    "        #mapsName.append(regFile)\n",
    "        mapsNumber.append(lineSpace[0])\n",
    "        \n",
    "    z = z + 1\n",
    "    whatFile.close()\n",
    "\n",
    "\n",
    "# If searching for string \"Mapxxxx\", where there is no space before the numbers\n",
    "# use the following regular expression \n",
    "\n",
    "#line = re.findall('[A-Za-z]{3}[\\d]{4}', openFile)"
   ]
  },
  {
   "cell_type": "code",
   "execution_count": 38,
   "metadata": {},
   "outputs": [
    {
     "data": {
      "text/plain": [
       "['C:\\\\Users\\\\Skenny02\\\\Desktop\\\\MapsForMatt\\\\GIS_Training_Fall2018.pdf',\n",
       " 'C:\\\\Users\\\\Skenny02\\\\Desktop\\\\MapsForMatt\\\\SKenny_CV _Summer2018.pdf']"
      ]
     },
     "execution_count": 38,
     "metadata": {},
     "output_type": "execute_result"
    }
   ],
   "source": [
    "mapsLocation"
   ]
  },
  {
   "cell_type": "code",
   "execution_count": null,
   "metadata": {},
   "outputs": [],
   "source": []
  },
  {
   "cell_type": "markdown",
   "metadata": {},
   "source": [
    "Below, we will create an Excel sheet names \"For_SDK\" in the desktop. It will have only one sheet, named \"pdfFileName\""
   ]
  },
  {
   "cell_type": "code",
   "execution_count": 39,
   "metadata": {
    "scrolled": false
   },
   "outputs": [
    {
     "name": "stdout",
     "output_type": "stream",
     "text": [
      "<Worksheet \"For_SDK\">\n",
      "C:\\Users\\Skenny02\\Desktop\\For_SDK.xlsx\n"
     ]
    }
   ],
   "source": [
    "from openpyxl import Workbook\n",
    "titleSheet = \"For_SDK\"\n",
    "filepath = workDir + \"\\\\\" + titleSheet + \".xlsx\"\n",
    "wBook = Workbook()\n",
    "\n",
    "wSheet = wBook.active\n",
    "wSheet['A1']= \"pdfFileName\"\n",
    "\n",
    "wSheet.title = titleSheet\n",
    "print (wSheet)\n",
    "print(filepath)"
   ]
  },
  {
   "cell_type": "markdown",
   "metadata": {},
   "source": [
    "Below we are creating the titles for the first and second column, which will be placed in the first row."
   ]
  },
  {
   "cell_type": "code",
   "execution_count": 40,
   "metadata": {
    "scrolled": false
   },
   "outputs": [],
   "source": [
    "wSheet['A1']= \"regFile\"\n",
    "wSheet['B1']= \"DocPhrase\""
   ]
  },
  {
   "cell_type": "code",
   "execution_count": 41,
   "metadata": {},
   "outputs": [
    {
     "name": "stdout",
     "output_type": "stream",
     "text": [
      "<Cell 'For_SDK'.A2>\n",
      "C:\\Users\\Skenny02\\Desktop\\MapsForMatt\\GIS_Training_Fall2018.pdf\n",
      "<Cell 'For_SDK'.A3>\n",
      "C:\\Users\\Skenny02\\Desktop\\MapsForMatt\\SKenny_CV _Summer2018.pdf\n"
     ]
    }
   ],
   "source": [
    "i = 0\n",
    "rr = 2\n",
    "\n",
    "while i < len(mapsLocation):\n",
    "    j = str(rr)\n",
    "    vv = mapsLocation[i]\n",
    "    print(wSheet['A'+j])\n",
    "    wSheet['A'+j] = vv\n",
    "    print(wSheet['A'+j].value)\n",
    "    i = i+1\n",
    "    rr = rr + 1"
   ]
  },
  {
   "cell_type": "code",
   "execution_count": 42,
   "metadata": {},
   "outputs": [
    {
     "name": "stdout",
     "output_type": "stream",
     "text": [
      "<Cell 'For_SDK'.B2>\n",
      "Sharon \n",
      "<Cell 'For_SDK'.B3>\n",
      "Sharon \n"
     ]
    }
   ],
   "source": [
    "i = 0\n",
    "rr = 2\n",
    "\n",
    "while i < len(mapsLocation):\n",
    "    j = str(rr)\n",
    "    vv = mapsNumber[i]\n",
    "    print(wSheet['B'+j])\n",
    "    wSheet['B'+j] = vv\n",
    "    print(wSheet['B'+j].value)\n",
    "    i = i+1\n",
    "    rr = rr + 1"
   ]
  },
  {
   "cell_type": "code",
   "execution_count": 43,
   "metadata": {
    "scrolled": true
   },
   "outputs": [],
   "source": [
    "wBook.save(filepath)"
   ]
  },
  {
   "cell_type": "markdown",
   "metadata": {},
   "source": [
    "Below is a list of all the variables we used in this code"
   ]
  },
  {
   "cell_type": "code",
   "execution_count": 44,
   "metadata": {
    "scrolled": true
   },
   "outputs": [
    {
     "name": "stdout",
     "output_type": "stream",
     "text": [
      "Variable       Type              Data/Info\n",
      "------------------------------------------\n",
      "PyPDF2         module            <module 'PyPDF2' from 'C:<...>es\\\\PyPDF2\\\\__init__.py'>\n",
      "StringIO       type              <class '_io.StringIO'>\n",
      "Workbook       type              <class 'openpyxl.workbook.workbook.Workbook'>\n",
      "cc             str               C:\\Users\\Skenny02\\Desktop<...>_CV _Summer2018.pdf12.txt\n",
      "directorySDK   list              n=1\n",
      "dirs           list              n=0\n",
      "encrypted      list              n=0\n",
      "filepath       str               C:\\Users\\Skenny02\\Desktop\\For_SDK.xlsx\n",
      "files          str               SKenny_CV _Summer2018.pdf\n",
      "i              int               2\n",
      "io             module            <module 'io' from 'C:\\\\Us<...>s\\\\Anaconda\\\\lib\\\\io.py'>\n",
      "j              str               3\n",
      "lineSpace      list              n=1\n",
      "mapsLocation   list              n=2\n",
      "mapsName       list              n=0\n",
      "mapsNumber     list              n=2\n",
      "mm             int               1\n",
      "name           str               wss_aoi_2018-06-20_09-52-01.zip\n",
      "openFile       str               Sharon D. Kenny\\n \\n \\n \\<...>he Chesapeake Bay\\n \\n \\n\n",
      "os             module            <module 'os' from 'C:\\\\Us<...>s\\\\Anaconda\\\\lib\\\\os.py'>\n",
      "pageThing      PageObject        {'/Type': '/Page', '/Pare<...>/S', '/StructParents': 0}\n",
      "pageWord       str               Sharon D. Kenny\\n \\n \\n \\<...>he Chesapeake Bay\\n \\n \\n\n",
      "pdfFileObj     BufferedReader    <_io.BufferedReader name=<...>enny_CV _Summer2018.pdf'>\n",
      "pdfFiles_SDK   list              n=13\n",
      "pdfName_SDK    list              n=13\n",
      "pdfReader      PdfFileReader     <PyPDF2.pdf.PdfFileReader<...>ct at 0x0000013B9EC80FD0>\n",
      "re             module            <module 're' from 'C:\\\\Us<...>s\\\\Anaconda\\\\lib\\\\re.py'>\n",
      "regFile        str               C:\\Users\\Skenny02\\Desktop<...>_CV _Summer2018.pdf12.txt\n",
      "regPDF         str               C:\\Users\\Skenny02\\Desktop<...>SKenny_CV _Summer2018.pdf\n",
      "root           str               C:\\Users\\Skenny02\\Desktop\\MapsForMatt\n",
      "rr             int               4\n",
      "ry             int               1\n",
      "shutil         module            <module 'shutil' from 'C:<...>naconda\\\\lib\\\\shutil.py'>\n",
      "sys            module            <module 'sys' (built-in)>\n",
      "tex            list              n=0\n",
      "textsOneP      list              n=13\n",
      "titleSheet     str               For_SDK\n",
      "vv             str               Sharon \n",
      "wBook          Workbook          <openpyxl.workbook.workbo<...>ct at 0x0000013B9EC6A978>\n",
      "wSheet         Worksheet         <Worksheet \"For_SDK\">\n",
      "wfile          TextIOWrapper     <_io.TextIOWrapper name='<...>ode='w' encoding='utf-8'>\n",
      "what           str               C:\\Users\\Skenny02\\Desktop<...>SKenny_CV _Summer2018.pdf\n",
      "whatFile       TextIOWrapper     <_io.TextIOWrapper name='<...>ode='r' encoding='utf-8'>\n",
      "when           str               SKenny_CV _Summer2018.pdf\n",
      "workDir        str               C:\\Users\\Skenny02\\Desktop\n",
      "xxxpdfs        str               C:\\Users\\Skenny02\\Desktop\\xxxpdfs\n",
      "z              int               13\n"
     ]
    }
   ],
   "source": [
    "%whos"
   ]
  },
 ],
 "metadata": {
  "kernelspec": {
   "display_name": "Python 3",
   "language": "python",
   "name": "python3"
  },
  "language_info": {
   "codemirror_mode": {
    "name": "ipython",
    "version": 3
   },
   "file_extension": ".py",
   "mimetype": "text/x-python",
   "name": "python",
   "nbconvert_exporter": "python",
   "pygments_lexer": "ipython3",
   "version": "3.7.0"
  }
 },
 "nbformat": 4,
 "nbformat_minor": 2
}
